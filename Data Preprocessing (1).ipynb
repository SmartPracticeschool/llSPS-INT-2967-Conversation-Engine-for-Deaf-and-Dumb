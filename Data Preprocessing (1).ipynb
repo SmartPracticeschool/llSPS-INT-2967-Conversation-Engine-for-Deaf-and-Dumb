{
 "cells": [
  {
   "cell_type": "code",
   "execution_count": 32,
   "metadata": {},
   "outputs": [],
   "source": [
    "from keras.preprocessing.image import ImageDataGenerator\n",
    "import tensorflow as tf\n",
    "import keras\n",
    "import tensorflow.keras.backend as K\n",
    "from tensorflow.python.framework import graph_util\n",
    "from tensorflow.python.framework import ops"
   ]
  },
  {
   "cell_type": "code",
   "execution_count": 33,
   "metadata": {},
   "outputs": [],
   "source": [
    "train_datagen = ImageDataGenerator(rescale=1./255,shear_range=0.2,zoom_range=0.2,horizontal_flip=True)\n",
    "test_datagen = ImageDataGenerator(rescale=1./255)"
   ]
  },
  {
   "cell_type": "code",
   "execution_count": 37,
   "metadata": {},
   "outputs": [
    {
     "name": "stdout",
     "output_type": "stream",
     "text": [
      "Found 3707 images belonging to 24 classes.\n",
      "Found 1441 images belonging to 24 classes.\n"
     ]
    }
   ],
   "source": [
    "x_train = train_datagen.flow_from_directory(r'F:\\AI\\DataSet\\TrainSet',target_size=(64,64),batch_size=32,class_mode='categorical')\n",
    "x_test = train_datagen.flow_from_directory(r'F:\\AI\\DataSet\\TestSet',target_size=(64,64),batch_size=32,class_mode='categorical')"
   ]
  },
  {
   "cell_type": "code",
   "execution_count": 4,
   "metadata": {},
   "outputs": [],
   "source": [
    "from keras.models import Sequential\n",
    "from keras.layers import Dense\n",
    "from keras.layers import Convolution2D\n",
    "from keras.layers import MaxPooling2D\n",
    "from keras.layers import Flatten"
   ]
  },
  {
   "cell_type": "code",
   "execution_count": 5,
   "metadata": {},
   "outputs": [],
   "source": [
    "model=Sequential()"
   ]
  },
  {
   "cell_type": "code",
   "execution_count": 6,
   "metadata": {},
   "outputs": [],
   "source": [
    "model.add(Convolution2D(32,(3,3),input_shape=(64,64,3),activation='relu'))"
   ]
  },
  {
   "cell_type": "code",
   "execution_count": 7,
   "metadata": {},
   "outputs": [],
   "source": [
    "model.add(MaxPooling2D(pool_size=(2,2)))"
   ]
  },
  {
   "cell_type": "code",
   "execution_count": 8,
   "metadata": {},
   "outputs": [],
   "source": [
    "model.add(Flatten())"
   ]
  },
  {
   "cell_type": "code",
   "execution_count": 9,
   "metadata": {
    "scrolled": true
   },
   "outputs": [
    {
     "name": "stderr",
     "output_type": "stream",
     "text": [
      "<ipython-input-9-07f20f90764f>:1: UserWarning: Update your `Dense` call to the Keras 2 API: `Dense(activation=\"relu\", units=128, kernel_initializer=\"random_uniform\")`\n",
      "  model.add(Dense(output_dim=128,activation='relu',init='random_uniform'))\n"
     ]
    }
   ],
   "source": [
    "model.add(Dense(output_dim=128,activation='relu',init='random_uniform'))"
   ]
  },
  {
   "cell_type": "code",
   "execution_count": null,
   "metadata": {},
   "outputs": [],
   "source": []
  },
  {
   "cell_type": "code",
   "execution_count": 10,
   "metadata": {},
   "outputs": [
    {
     "name": "stderr",
     "output_type": "stream",
     "text": [
      "<ipython-input-10-df4f7d7dafaa>:1: UserWarning: Update your `Dense` call to the Keras 2 API: `Dense(activation=\"softmax\", units=24, kernel_initializer=\"random_uniform\")`\n",
      "  model.add(Dense(output_dim=24,activation='softmax',init='random_uniform'))\n"
     ]
    }
   ],
   "source": [
    "model.add(Dense(output_dim=24,activation='softmax',init='random_uniform'))"
   ]
  },
  {
   "cell_type": "code",
   "execution_count": 11,
   "metadata": {},
   "outputs": [],
   "source": [
    "model.compile(optimizer='adam',loss='categorical_crossentropy',metrics=['accuracy'])"
   ]
  },
  {
   "cell_type": "code",
   "execution_count": 12,
   "metadata": {},
   "outputs": [
    {
     "name": "stdout",
     "output_type": "stream",
     "text": [
      "Epoch 1/30\n",
      "30/30 [==============================] - 128s 4s/step - loss: 3.1647 - accuracy: 0.0823 - val_loss: 3.0447 - val_accuracy: 0.1199\n",
      "Epoch 2/30\n",
      "30/30 [==============================] - 57s 2s/step - loss: 2.8904 - accuracy: 0.2198 - val_loss: 2.5899 - val_accuracy: 0.1990\n",
      "Epoch 3/30\n",
      "30/30 [==============================] - 58s 2s/step - loss: 2.3517 - accuracy: 0.2942 - val_loss: 2.1484 - val_accuracy: 0.3378\n",
      "Epoch 4/30\n",
      "30/30 [==============================] - 50s 2s/step - loss: 1.9112 - accuracy: 0.4177 - val_loss: 1.6216 - val_accuracy: 0.3819\n",
      "Epoch 5/30\n",
      "30/30 [==============================] - 28s 948ms/step - loss: 1.7531 - accuracy: 0.4573 - val_loss: 2.3464 - val_accuracy: 0.4000\n",
      "Epoch 6/30\n",
      "30/30 [==============================] - 30s 987ms/step - loss: 1.5821 - accuracy: 0.5281 - val_loss: 1.4205 - val_accuracy: 0.5061\n",
      "Epoch 7/30\n",
      "30/30 [==============================] - 28s 939ms/step - loss: 1.4702 - accuracy: 0.5340 - val_loss: 1.6638 - val_accuracy: 0.5350\n",
      "Epoch 8/30\n",
      "30/30 [==============================] - 28s 928ms/step - loss: 1.3514 - accuracy: 0.5854 - val_loss: 1.7014 - val_accuracy: 0.5275\n",
      "Epoch 9/30\n",
      "30/30 [==============================] - 30s 1s/step - loss: 1.2586 - accuracy: 0.6281 - val_loss: 1.7122 - val_accuracy: 0.5302\n",
      "Epoch 10/30\n",
      "30/30 [==============================] - 29s 956ms/step - loss: 1.1966 - accuracy: 0.6260 - val_loss: 1.5749 - val_accuracy: 0.5451\n",
      "Epoch 11/30\n",
      "30/30 [==============================] - 29s 962ms/step - loss: 1.0778 - accuracy: 0.6859 - val_loss: 2.0013 - val_accuracy: 0.5568\n",
      "Epoch 12/30\n",
      "30/30 [==============================] - 29s 962ms/step - loss: 0.9476 - accuracy: 0.7219 - val_loss: 1.3440 - val_accuracy: 0.5798\n",
      "Epoch 13/30\n",
      "30/30 [==============================] - 30s 987ms/step - loss: 0.9338 - accuracy: 0.7188 - val_loss: 1.4565 - val_accuracy: 0.6050\n",
      "Epoch 14/30\n",
      "30/30 [==============================] - 30s 1s/step - loss: 0.9678 - accuracy: 0.7292 - val_loss: 1.4124 - val_accuracy: 0.5952\n",
      "Epoch 15/30\n",
      "30/30 [==============================] - 28s 935ms/step - loss: 0.8019 - accuracy: 0.7490 - val_loss: 1.1566 - val_accuracy: 0.5879\n",
      "Epoch 16/30\n",
      "30/30 [==============================] - 31s 1s/step - loss: 0.7992 - accuracy: 0.7432 - val_loss: 1.4371 - val_accuracy: 0.6247\n",
      "Epoch 17/30\n",
      "30/30 [==============================] - 30s 996ms/step - loss: 0.7692 - accuracy: 0.7719 - val_loss: 1.0928 - val_accuracy: 0.6095\n",
      "Epoch 18/30\n",
      "30/30 [==============================] - 31s 1s/step - loss: 0.7253 - accuracy: 0.7927 - val_loss: 1.1385 - val_accuracy: 0.6458\n",
      "Epoch 19/30\n",
      "30/30 [==============================] - 30s 1s/step - loss: 0.6392 - accuracy: 0.7979 - val_loss: 0.8327 - val_accuracy: 0.6233\n",
      "Epoch 20/30\n",
      "30/30 [==============================] - 30s 1000ms/step - loss: 0.6082 - accuracy: 0.8135 - val_loss: 1.4674 - val_accuracy: 0.6599\n",
      "Epoch 21/30\n",
      "30/30 [==============================] - 30s 1s/step - loss: 0.6224 - accuracy: 0.8146 - val_loss: 1.4575 - val_accuracy: 0.6569\n",
      "Epoch 22/30\n",
      "30/30 [==============================] - 47s 2s/step - loss: 0.6135 - accuracy: 0.8177 - val_loss: 1.2840 - val_accuracy: 0.6157\n",
      "Epoch 23/30\n",
      "30/30 [==============================] - 34s 1s/step - loss: 0.5357 - accuracy: 0.8377 - val_loss: 1.2490 - val_accuracy: 0.6423\n",
      "Epoch 24/30\n",
      "30/30 [==============================] - 38s 1s/step - loss: 0.5489 - accuracy: 0.8406 - val_loss: 0.9296 - val_accuracy: 0.6670\n",
      "Epoch 25/30\n",
      "30/30 [==============================] - 34s 1s/step - loss: 0.5170 - accuracy: 0.8531 - val_loss: 1.3560 - val_accuracy: 0.6499\n",
      "Epoch 26/30\n",
      "30/30 [==============================] - 35s 1s/step - loss: 0.5057 - accuracy: 0.8469 - val_loss: 1.2223 - val_accuracy: 0.6650\n",
      "Epoch 27/30\n",
      "30/30 [==============================] - 34s 1s/step - loss: 0.4219 - accuracy: 0.8806 - val_loss: 1.3811 - val_accuracy: 0.6554\n",
      "Epoch 28/30\n",
      "30/30 [==============================] - 36s 1s/step - loss: 0.4741 - accuracy: 0.8396 - val_loss: 0.6376 - val_accuracy: 0.6832\n",
      "Epoch 29/30\n",
      "30/30 [==============================] - 29s 956ms/step - loss: 0.4254 - accuracy: 0.8875 - val_loss: 0.5716 - val_accuracy: 0.6700\n",
      "Epoch 30/30\n",
      "30/30 [==============================] - 29s 955ms/step - loss: 0.4396 - accuracy: 0.8906 - val_loss: 1.3334 - val_accuracy: 0.6638\n"
     ]
    },
    {
     "data": {
      "text/plain": [
       "<keras.callbacks.callbacks.History at 0x1dacdd3de80>"
      ]
     },
     "execution_count": 12,
     "metadata": {},
     "output_type": "execute_result"
    }
   ],
   "source": [
    "model.fit_generator(x_train,steps_per_epoch = 30,epochs=30,validation_data=x_test,validation_steps=63)"
   ]
  },
  {
   "cell_type": "code",
   "execution_count": 13,
   "metadata": {},
   "outputs": [],
   "source": [
    "model.save('SignLangModel.h5')"
   ]
  },
  {
   "cell_type": "code",
   "execution_count": null,
   "metadata": {},
   "outputs": [],
   "source": [
    "from keras.models import load_model\n",
    "from keras.preprocessing import image\n",
    "import numpy as np\n",
    "#import cv2\n",
    "model = load_model('SignLangModel.h5')"
   ]
  },
  {
   "cell_type": "code",
   "execution_count": null,
   "metadata": {},
   "outputs": [],
   "source": [
    "img = image.load_img(r'/Users/harshi/Desktop/DataSet/TestSet/B/189.jpg',target_size = (64,64))"
   ]
  },
  {
   "cell_type": "code",
   "execution_count": null,
   "metadata": {},
   "outputs": [],
   "source": [
    "x = image.img_to_array(img)\n",
    "x = np.expand_dims(x,axis =0)"
   ]
  },
  {
   "cell_type": "code",
   "execution_count": null,
   "metadata": {},
   "outputs": [],
   "source": [
    "pred = model.predict_classes(x)"
   ]
  },
  {
   "cell_type": "code",
   "execution_count": null,
   "metadata": {},
   "outputs": [],
   "source": [
    "pred"
   ]
  },
  {
   "cell_type": "code",
   "execution_count": null,
   "metadata": {},
   "outputs": [],
   "source": []
  },
  {
   "cell_type": "code",
   "execution_count": null,
   "metadata": {},
   "outputs": [],
   "source": []
  }
 ],
 "metadata": {
  "kernelspec": {
   "display_name": "Python 3",
   "language": "python",
   "name": "python3"
  },
  "language_info": {
   "codemirror_mode": {
    "name": "ipython",
    "version": 3
   },
   "file_extension": ".py",
   "mimetype": "text/x-python",
   "name": "python",
   "nbconvert_exporter": "python",
   "pygments_lexer": "ipython3",
   "version": "3.8.3"
  }
 },
 "nbformat": 4,
 "nbformat_minor": 2
}
